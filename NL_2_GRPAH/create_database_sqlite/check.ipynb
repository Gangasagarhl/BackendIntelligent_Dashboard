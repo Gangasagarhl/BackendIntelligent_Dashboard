{
 "cells": [
  {
   "cell_type": "code",
   "execution_count": 22,
   "id": "cc24dd79",
   "metadata": {},
   "outputs": [],
   "source": [
    "import pandas as pd"
   ]
  },
  {
   "cell_type": "code",
   "execution_count": 23,
   "id": "f7b7849e",
   "metadata": {},
   "outputs": [
    {
     "data": {
      "text/plain": [
       "Index(['call_id', 'user_id', 'Counsellor_State', 'masked_caller_phone',\n",
       "       'created_time', 'triage', 'call_types', 'segment_id',\n",
       "       'counselling_data_triage', 'counselling_data_resolution',\n",
       "       'counselling_data_all_complaints', 'patient_creator_user_id',\n",
       "       'patient_created_date', 'patient_telemanas_id', 'patient_age',\n",
       "       'Patient_District', 'Patient_State', 'Patient_Gender', 'callback_Type',\n",
       "       'Counsellor_State.1', 'Called_by'],\n",
       "      dtype='object')"
      ]
     },
     "execution_count": 23,
     "metadata": {},
     "output_type": "execute_result"
    }
   ],
   "source": [
    "data  =  pd.read_csv('counselling_complaints.csv')\n",
    "\n",
    "data.columns"
   ]
  },
  {
   "cell_type": "code",
   "execution_count": 24,
   "id": "ac6a2b1a",
   "metadata": {},
   "outputs": [
    {
     "data": {
      "text/plain": [
       "array(['MADHYA PRADESH', 'MAHARASHTRA', 'UTTAR PRADESH', 'UTTARAKHAND',\n",
       "       'JHARKHAND', 'KARNATAKA', 'TRIPURA', 'TELANGANA', 'ASSAM',\n",
       "       'ODISHA', nan, 'TAMIL NADU', 'HARYANA', 'KERALA', 'WEST BENGAL',\n",
       "       'BIHAR', 'RAJASTHAN', 'CHHATTISGARH', 'JAMMU AND KASHMIR',\n",
       "       'PUNJAB', 'DELHI', 'GOA', 'MANIPUR',\n",
       "       'DADRA AND NAGAR HAVELI AND DAMAN AND DIU', 'ANDHRA PRADESH',\n",
       "       'GUJARAT', 'MIZORAM', 'PUDUCHERRY'], dtype=object)"
      ]
     },
     "execution_count": 24,
     "metadata": {},
     "output_type": "execute_result"
    }
   ],
   "source": [
    "data['Patient_State'].unique()"
   ]
  },
  {
   "cell_type": "code",
   "execution_count": 21,
   "id": "916eaaea",
   "metadata": {},
   "outputs": [
    {
     "data": {
      "text/plain": [
       "44     85.0\n",
       "75     16.0\n",
       "147    28.0\n",
       "148    57.0\n",
       "304    31.0\n",
       "545    26.0\n",
       "562    47.0\n",
       "984    53.0\n",
       "995    35.0\n",
       "996    35.0\n",
       "997    35.0\n",
       "998    35.0\n",
       "Name: patient_age, dtype: float64"
      ]
     },
     "execution_count": 21,
     "metadata": {},
     "output_type": "execute_result"
    }
   ],
   "source": [
    "data = data[data['Patient_Gender']=='Female']\n",
    "data = data[data['Patient_State'] == 'ODISHA']\n",
    "data.to_csv(\"check.csv\", index=False)\n",
    "data['patient_age']"
   ]
  }
 ],
 "metadata": {
  "kernelspec": {
   "display_name": "base",
   "language": "python",
   "name": "python3"
  },
  "language_info": {
   "codemirror_mode": {
    "name": "ipython",
    "version": 3
   },
   "file_extension": ".py",
   "mimetype": "text/x-python",
   "name": "python",
   "nbconvert_exporter": "python",
   "pygments_lexer": "ipython3",
   "version": "3.12.7"
  }
 },
 "nbformat": 4,
 "nbformat_minor": 5
}
